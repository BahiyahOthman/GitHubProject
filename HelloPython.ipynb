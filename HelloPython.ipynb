{
 "cells": [
  {
   "cell_type": "markdown",
   "id": "43038479-4398-4d25-a9ac-b4dabb00126c",
   "metadata": {},
   "source": [
    "# My first hello world in Python"
   ]
  },
  {
   "cell_type": "code",
   "execution_count": 1,
   "id": "1c382fb3-2bba-49d2-8b35-4ea730a8a7b7",
   "metadata": {},
   "outputs": [
    {
     "name": "stdout",
     "output_type": "stream",
     "text": [
      "Hello World\n"
     ]
    }
   ],
   "source": [
    "print(\"Hello World\")"
   ]
  },
  {
   "cell_type": "markdown",
   "id": "bfbb083a-1d0d-4b4e-a6d0-c939c509a2ab",
   "metadata": {},
   "source": [
    "Indentation"
   ]
  },
  {
   "cell_type": "code",
   "execution_count": 2,
   "id": "5855f158-8c78-4d67-a250-93a1e3398e73",
   "metadata": {},
   "outputs": [
    {
     "name": "stdout",
     "output_type": "stream",
     "text": [
      "No\n"
     ]
    }
   ],
   "source": [
    "x=3\n",
    "if x<3:\n",
    "    print(\"yes\")\n",
    "else:\n",
    "    print(\"No\")"
   ]
  },
  {
   "cell_type": "code",
   "execution_count": 3,
   "id": "d275174c-8efa-4cea-99ce-eb355e68d397",
   "metadata": {},
   "outputs": [],
   "source": [
    "#my first comment"
   ]
  },
  {
   "cell_type": "code",
   "execution_count": 7,
   "id": "75d2bde7-cfb9-4861-a0cf-eb19065b1329",
   "metadata": {},
   "outputs": [
    {
     "name": "stdout",
     "output_type": "stream",
     "text": [
      "my comment\n"
     ]
    }
   ],
   "source": [
    "\"\"\"\n",
    "This is 1st comment\n",
    "This is 2nd comment\n",
    "\"\"\"\n",
    "print(\"my comment\")"
   ]
  },
  {
   "cell_type": "code",
   "execution_count": 8,
   "id": "7f8e7a4a-fb25-4d33-9d28-4faf614051c6",
   "metadata": {},
   "outputs": [],
   "source": [
    "#variables\n",
    "#integer\n",
    "age = 25\n",
    "#float\n",
    "temperature = 36.6\n",
    "#string\n",
    "greeting = \"Hello World\""
   ]
  },
  {
   "cell_type": "code",
   "execution_count": 9,
   "id": "e21211a8-d18e-479f-b646-27c330b41121",
   "metadata": {},
   "outputs": [
    {
     "name": "stdout",
     "output_type": "stream",
     "text": [
      "25\n",
      "36.6\n",
      "Hello World\n"
     ]
    }
   ],
   "source": [
    "print(age)\n",
    "print(temperature)\n",
    "print(greeting)"
   ]
  },
  {
   "cell_type": "code",
   "execution_count": 10,
   "id": "725ebab0-2934-429f-bf1b-5893ca1893ce",
   "metadata": {},
   "outputs": [
    {
     "name": "stdout",
     "output_type": "stream",
     "text": [
      "Age =  25\n",
      "Temperature =  36.6\n",
      "Greeting =  Hello World\n"
     ]
    }
   ],
   "source": [
    "print(\"Age = \", age)\n",
    "print(\"Temperature = \",temperature)\n",
    "print(\"Greeting = \",greeting)"
   ]
  },
  {
   "cell_type": "markdown",
   "id": "992bd5d3-07db-4859-b0c6-c74125cfaced",
   "metadata": {},
   "source": [
    "# Data Type"
   ]
  },
  {
   "cell_type": "code",
   "execution_count": 11,
   "id": "a89908d0-adab-493f-b66f-07728fbb78dc",
   "metadata": {},
   "outputs": [
    {
     "name": "stdout",
     "output_type": "stream",
     "text": [
      "<class 'int'>\n",
      "<class 'float'>\n",
      "<class 'str'>\n"
     ]
    }
   ],
   "source": [
    "print(type(age))\n",
    "print(type(temperature))\n",
    "print(type(greeting))"
   ]
  },
  {
   "cell_type": "code",
   "execution_count": 13,
   "id": "28f23fc6-33f7-4ce7-b28d-162f0609f15d",
   "metadata": {},
   "outputs": [
    {
     "name": "stdout",
     "output_type": "stream",
     "text": [
      "<class 'int'>\n"
     ]
    }
   ],
   "source": [
    "nocom = 2\n",
    "print(type(nocom))"
   ]
  },
  {
   "cell_type": "code",
   "execution_count": 15,
   "id": "aaf5feae-8587-44c8-ab4e-0121f862f1ed",
   "metadata": {},
   "outputs": [
    {
     "name": "stdin",
     "output_type": "stream",
     "text": [
      "Umur Anda ? 40\n",
      "Tinggi Anda ? 167\n",
      "Berat Anda ? rahsia\n"
     ]
    },
    {
     "name": "stdout",
     "output_type": "stream",
     "text": [
      "Jadi anda berumur 40, dengan ketinggian 167 dan berat rahsia\n"
     ]
    }
   ],
   "source": [
    "age = input(\"Umur Anda ?\")\n",
    "height = input (\"Tinggi Anda ?\")\n",
    "weight = input(\"Berat Anda ?\")\n",
    "\n",
    "print(f\"Jadi anda berumur {age}, dengan ketinggian {height} dan berat {weight}\")"
   ]
  },
  {
   "cell_type": "code",
   "execution_count": 17,
   "id": "6f41c409-28fc-4924-9475-337ccae98427",
   "metadata": {},
   "outputs": [],
   "source": [
    "fruits =  [\"pisang\", \"epal\", \"strawberry\"]"
   ]
  },
  {
   "cell_type": "code",
   "execution_count": 19,
   "id": "f2dd410e-fac7-4503-98a1-e67571d8bea6",
   "metadata": {},
   "outputs": [
    {
     "name": "stdout",
     "output_type": "stream",
     "text": [
      "Buah Pertama :  pisang\n",
      "Buah Kedua :  epal\n",
      "Buah Ketiga :  strawberry\n"
     ]
    }
   ],
   "source": [
    "print(\"Buah Pertama : \",fruits[0])\n",
    "print(\"Buah Kedua : \",fruits[1])\n",
    "print(\"Buah Ketiga : \",fruits[2])"
   ]
  },
  {
   "cell_type": "code",
   "execution_count": 22,
   "id": "591c0614-05b8-4d23-96dd-51ad0b921839",
   "metadata": {},
   "outputs": [
    {
     "name": "stdout",
     "output_type": "stream",
     "text": [
      "strawberry\n"
     ]
    }
   ],
   "source": [
    "print(fruits[2])"
   ]
  },
  {
   "cell_type": "code",
   "execution_count": 23,
   "id": "a4f269bf-6533-436d-b33f-0c8fd483c37e",
   "metadata": {},
   "outputs": [],
   "source": [
    "fruits[0] = \"blueberry\""
   ]
  },
  {
   "cell_type": "code",
   "execution_count": 24,
   "id": "fe35a2f6-4ff1-49bc-befb-71809e08fa91",
   "metadata": {},
   "outputs": [
    {
     "name": "stdout",
     "output_type": "stream",
     "text": [
      "Buah Pertama :  blueberry\n",
      "Buah Kedua :  epal\n",
      "Buah Ketiga :  strawberry\n"
     ]
    }
   ],
   "source": [
    "fruits[0] = \"blueberry\"\n",
    "\n",
    "print(\"Buah Pertama : \",fruits[0])\n",
    "print(\"Buah Kedua : \",fruits[1])\n",
    "print(\"Buah Ketiga : \",fruits[2])"
   ]
  },
  {
   "cell_type": "code",
   "execution_count": 25,
   "id": "09a16a76-281a-49c0-86a6-848f3088057c",
   "metadata": {},
   "outputs": [
    {
     "name": "stdout",
     "output_type": "stream",
     "text": [
      "10\n",
      "20\n"
     ]
    }
   ],
   "source": [
    "coordinates = (10,20)\n",
    "print(coordinates[0])\n",
    "print(coordinates[1])"
   ]
  },
  {
   "cell_type": "code",
   "execution_count": 29,
   "id": "b8a4d869-71fd-4585-ba01-8f003b9eb534",
   "metadata": {},
   "outputs": [
    {
     "name": "stdout",
     "output_type": "stream",
     "text": [
      "Nama : Beya\n",
      "Umur : 40\n"
     ]
    }
   ],
   "source": [
    "person = {\"name\" : \"Beya\", \"age\" : 40}\n",
    "print(\"Nama :\",person[\"name\"])\n",
    "print(\"Umur :\",person[\"age\"])\n",
    "      "
   ]
  },
  {
   "cell_type": "code",
   "execution_count": 30,
   "id": "ad38824f-7f4a-4f18-92cf-cbe339248435",
   "metadata": {},
   "outputs": [
    {
     "name": "stdout",
     "output_type": "stream",
     "text": [
      "Nama : Nazatul Bahiyah binti Othman\n",
      "Umur : 40\n"
     ]
    }
   ],
   "source": [
    "person[\"name\"] = \"Nazatul Bahiyah binti Othman\"\n",
    "\n",
    "print(\"Nama :\",person[\"name\"])\n",
    "print(\"Umur :\",person[\"age\"])"
   ]
  },
  {
   "cell_type": "code",
   "execution_count": 31,
   "id": "57c7007f-7874-4d9c-9819-968b4750ec4f",
   "metadata": {},
   "outputs": [
    {
     "name": "stdout",
     "output_type": "stream",
     "text": [
      "blueberry\n",
      "epal\n",
      "strawberry\n"
     ]
    }
   ],
   "source": [
    "for x in fruits:\n",
    "    print(x)"
   ]
  },
  {
   "cell_type": "code",
   "execution_count": 32,
   "id": "309e3cdd-f166-4e9b-b46a-aefe2a4700c9",
   "metadata": {},
   "outputs": [
    {
     "name": "stdout",
     "output_type": "stream",
     "text": [
      "1\n",
      "3\n",
      "5\n",
      "7\n",
      "9\n"
     ]
    }
   ],
   "source": [
    "a = 1\n",
    "while a<10:\n",
    "    print(a)\n",
    "    a+=2"
   ]
  },
  {
   "cell_type": "code",
   "execution_count": 35,
   "id": "6ee3dd95-ec59-4c98-853b-91c1382749c5",
   "metadata": {},
   "outputs": [
    {
     "name": "stdout",
     "output_type": "stream",
     "text": [
      "13\n",
      "40\n",
      "43\n"
     ]
    }
   ],
   "source": [
    "def fungsi(x,y):\n",
    "    return 5*x+y\n",
    "    \n",
    "print(fungsi(2,3))\n",
    "print(fungsi(7,5))\n",
    "print(fungsi(8,3))"
   ]
  },
  {
   "cell_type": "code",
   "execution_count": 36,
   "id": "106a6aea-d600-4083-827e-289c3632bb85",
   "metadata": {},
   "outputs": [
    {
     "name": "stdout",
     "output_type": "stream",
     "text": [
      "8\n"
     ]
    }
   ],
   "source": [
    "add = lambda x, y: x+y\n",
    "print(add(3,5))"
   ]
  },
  {
   "cell_type": "code",
   "execution_count": null,
   "id": "b2da3d78-e895-4791-8d70-37a910c9c65d",
   "metadata": {},
   "outputs": [],
   "source": []
  }
 ],
 "metadata": {
  "kernelspec": {
   "display_name": "Python 3 (ipykernel)",
   "language": "python",
   "name": "python3"
  },
  "language_info": {
   "codemirror_mode": {
    "name": "ipython",
    "version": 3
   },
   "file_extension": ".py",
   "mimetype": "text/x-python",
   "name": "python",
   "nbconvert_exporter": "python",
   "pygments_lexer": "ipython3",
   "version": "3.10.12"
  }
 },
 "nbformat": 4,
 "nbformat_minor": 5
}
